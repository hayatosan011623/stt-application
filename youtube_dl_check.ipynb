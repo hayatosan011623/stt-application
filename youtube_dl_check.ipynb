{
 "cells": [
  {
   "cell_type": "code",
   "execution_count": 1,
   "metadata": {},
   "outputs": [
    {
     "name": "stdout",
     "output_type": "stream",
     "text": [
      "Collecting youtube_dl\n",
      "  Downloading youtube_dl-2021.12.17-py2.py3-none-any.whl (1.9 MB)\n",
      "\u001b[2K     \u001b[90m━━━━━━━━━━━━━━━━━━━━━━━━━━━━━━━━━━━━━━━━\u001b[0m \u001b[32m1.9/1.9 MB\u001b[0m \u001b[31m3.0 MB/s\u001b[0m eta \u001b[36m0:00:00\u001b[0m00:01\u001b[0m00:01\u001b[0m\n",
      "\u001b[?25hInstalling collected packages: youtube_dl\n",
      "Successfully installed youtube_dl-2021.12.17\n"
     ]
    }
   ],
   "source": [
    "!pip3 install youtube_dl"
   ]
  },
  {
   "cell_type": "code",
   "execution_count": 2,
   "metadata": {},
   "outputs": [
    {
     "name": "stdout",
     "output_type": "stream",
     "text": [
      "[youtube] 2JLiGSUohEo: Downloading webpage\n",
      "[download] Destination: 【必須で見るべき】HTML_CSSとは？それぞれの特徴をわかりやすく解説！-2JLiGSUohEo.mp4\n",
      "[download] 100% of 44.54MiB in 15:1103KiB/s ETA 00:002\n"
     ]
    }
   ],
   "source": [
    "from __future__ import unicode_literals\n",
    "import youtube_dl\n",
    "ydl_opts = {}\n",
    "with youtube_dl.YoutubeDL(ydl_opts) as ydl:\n",
    "    ydl.download(['https://www.youtube.com/watch?v=2JLiGSUohEo'])"
   ]
  },
  {
   "cell_type": "code",
   "execution_count": 4,
   "metadata": {},
   "outputs": [
    {
     "name": "stdout",
     "output_type": "stream",
     "text": [
      "Collecting pydub\n",
      "  Downloading pydub-0.25.1-py2.py3-none-any.whl (32 kB)\n",
      "Installing collected packages: pydub\n",
      "Successfully installed pydub-0.25.1\n"
     ]
    }
   ],
   "source": [
    "!pip3 install pydub"
   ]
  },
  {
   "cell_type": "code",
   "execution_count": 7,
   "metadata": {},
   "outputs": [
    {
     "name": "stdout",
     "output_type": "stream",
     "text": [
      "Collecting ffmpeg\n",
      "  Downloading ffmpeg-1.4.tar.gz (5.1 kB)\n",
      "  Preparing metadata (setup.py) ... \u001b[?25ldone\n",
      "\u001b[?25hBuilding wheels for collected packages: ffmpeg\n",
      "  Building wheel for ffmpeg (setup.py) ... \u001b[?25ldone\n",
      "\u001b[?25h  Created wheel for ffmpeg: filename=ffmpeg-1.4-py3-none-any.whl size=6083 sha256=68606b2676eb31232218b4b660d567b7f57e8900cd71a77dc748419cf0ba6b08\n",
      "  Stored in directory: /Users/hayatohamada/Library/Caches/pip/wheels/30/33/46/5ab7eca55b9490dddbf3441c68a29535996270ef1ce8b9b6d7\n",
      "Successfully built ffmpeg\n",
      "Installing collected packages: ffmpeg\n",
      "Successfully installed ffmpeg-1.4\n"
     ]
    }
   ],
   "source": [
    "!pip3 install ffmpeg"
   ]
  },
  {
   "cell_type": "code",
   "execution_count": 11,
   "metadata": {},
   "outputs": [
    {
     "name": "stdout",
     "output_type": "stream",
     "text": [
      "Requirement already satisfied: pip in /Users/hayatohamada/opt/anaconda3/lib/python3.8/site-packages (22.1.2)\n",
      "Collecting install\n",
      "  Downloading install-1.3.5-py3-none-any.whl (3.2 kB)\n",
      "Collecting ffmpeg-python\n",
      "  Downloading ffmpeg_python-0.2.0-py3-none-any.whl (25 kB)\n",
      "Requirement already satisfied: future in /Users/hayatohamada/opt/anaconda3/lib/python3.8/site-packages (from ffmpeg-python) (0.18.2)\n",
      "Installing collected packages: install, ffmpeg-python\n",
      "Successfully installed ffmpeg-python-0.2.0 install-1.3.5\n"
     ]
    }
   ],
   "source": [
    "!pip3 install pip install ffmpeg-python"
   ]
  },
  {
   "cell_type": "code",
   "execution_count": 20,
   "metadata": {},
   "outputs": [
    {
     "name": "stdout",
     "output_type": "stream",
     "text": [
      "\u001b[31mERROR: Could not find a version that satisfies the requirement avconv (from versions: none)\u001b[0m\u001b[31m\n",
      "\u001b[0m\u001b[31mERROR: No matching distribution found for avconv\u001b[0m\u001b[31m\n",
      "\u001b[0m"
     ]
    }
   ],
   "source": [
    "!pip3 install avconv"
   ]
  },
  {
   "cell_type": "code",
   "execution_count": 1,
   "metadata": {},
   "outputs": [],
   "source": [
    "import ffmpeg"
   ]
  },
  {
   "cell_type": "code",
   "execution_count": 15,
   "metadata": {},
   "outputs": [
    {
     "name": "stdout",
     "output_type": "stream",
     "text": [
      "[youtube] 2JLiGSUohEo: Downloading webpage\n",
      "[download] Destination: ./audio_file/audio_sample.webm\n",
      "[download] 100% of 7.95MiB in 01:4634KiB/s ETA 00:000\n",
      "[ffmpeg] Destination: ./audio_file/audio_sample.mp3\n",
      "Deleting original file ./audio_file/audio_sample.webm (pass -k to keep)\n",
      "[ffmpeg] Adding metadata to './audio_file/audio_sample.mp3'\n"
     ]
    }
   ],
   "source": [
    "import youtube_dl\n",
    "from pydub import AudioSegment\n",
    "\n",
    "output_file_path=\"./audio_file/audio_sample\"\n",
    "\n",
    "ydl_opts = {\n",
    "    'format': 'bestaudio/best',\n",
    "    'outtmpl':  output_file_path + '.%(ext)s',   # 出力先パス\n",
    "    'postprocessors': [\n",
    "        {'key': 'FFmpegExtractAudio',\n",
    "         'preferredcodec': 'mp3',                # 出力ファイル形式\n",
    "         'preferredquality': '192'},             # 出力ファイルの品質\n",
    "        {'key': 'FFmpegMetadata'},\n",
    "    ],\n",
    "}\n",
    "url = \"https://www.youtube.com/watch?v=2JLiGSUohEo\"\n",
    "# url = \"https://www.youtube.com/watch?v=hR3tAX3pfZE\"\n",
    "\n",
    "ydl = youtube_dl.YoutubeDL(ydl_opts)\n",
    "\n",
    "# 指定したパスに音声ファイルが格納される\n",
    "_ = ydl.extract_info(url, download=True)\n",
    "\n",
    "# 格納された音声ファイルをpydubで読み込む\n",
    "audio = AudioSegment.from_mp3(output_file_path + '.mp3')"
   ]
  },
  {
   "cell_type": "code",
   "execution_count": 16,
   "metadata": {},
   "outputs": [
    {
     "data": {
      "text/plain": [
       "<_io.BufferedRandom name='audio_sample_w.wav'>"
      ]
     },
     "execution_count": 16,
     "metadata": {},
     "output_type": "execute_result"
    }
   ],
   "source": [
    "from pydub import AudioSegment\n",
    "\n",
    "# audio_file = 'YOUR_SONG.mp3'\n",
    "# output_path = 'YOUR_SONG.wav'\n",
    "\n",
    "audio_file = './audio_file/audio_sample.mp3'\n",
    "output_path = 'audio_sample_w.wav'\n",
    "\n",
    "audio = AudioSegment.from_mp3(audio_file)\n",
    "audio.export(output_path, format='wav')"
   ]
  },
  {
   "cell_type": "code",
   "execution_count": null,
   "metadata": {},
   "outputs": [],
   "source": [
    "from pydub import AudioSegment\n",
    "import streamlit as st\n",
    "\n",
    "byte_file = st.file_uploader('こちらからファイルを読み込み')\n",
    "audio = AudioSegment.from_file(byte_file)\n",
    "audio.export(output_path, format='wav')"
   ]
  },
  {
   "cell_type": "code",
   "execution_count": 7,
   "metadata": {},
   "outputs": [
    {
     "name": "stdout",
     "output_type": "stream",
     "text": [
      "Requirement already satisfied: azure-cognitiveservices-speech in /Users/hayatohamada/opt/anaconda3/lib/python3.8/site-packages (1.14.0)\n"
     ]
    }
   ],
   "source": [
    "!pip3 install azure-cognitiveservices-speech"
   ]
  },
  {
   "cell_type": "code",
   "execution_count": 17,
   "metadata": {},
   "outputs": [],
   "source": [
    "import time\n",
    "import azure.cognitiveservices.speech as speechsdk\n",
    "\n",
    "def recognize_audio(output, speech_key, service_region, filename, recognize_time=100):\n",
    "    \"\"\"\n",
    "    wav形式のデータから文字を起こす関数\n",
    "    ---------------------------\n",
    "    Parameters\n",
    "    output: str\n",
    "        音声から起こしたテキスト（再帰的に取得する）\n",
    "    speech_key: str\n",
    "        Azure Speech SDKのキー\n",
    "    service_region: str\n",
    "         Azure Speech SDKのリージョン名\n",
    "    filename: str\n",
    "        音声ファイルのパス\n",
    "    recognize_time: int\n",
    "        音声認識にかける時間（秒）\n",
    "    \"\"\"\n",
    "    # Speech to Text 設定周り\n",
    "    speech_config = speechsdk.SpeechConfig(subscription=speech_key, region=service_region)\n",
    "    speech_config.speech_recognition_language=\"ja-JP\"\n",
    "\n",
    "    # 認識器の設定\n",
    "    audio_input = speechsdk.AudioConfig(filename=filename)\n",
    "    speech_recognizer = speechsdk.SpeechRecognizer(speech_config=speech_config, audio_config=audio_input)\n",
    "\n",
    "    def recognized(evt):\n",
    "        nonlocal output\n",
    "        output += evt.result.text\n",
    "        \n",
    "    # 音声認識の実行\n",
    "    # recognize_timeの時間、継続して文字起こしを行う\n",
    "    speech_recognizer.recognized.connect(recognized)\n",
    "    speech_recognizer.start_continuous_recognition()\n",
    "    time.sleep(recognize_time)\n",
    "\n",
    "    return output\n",
    "\n",
    "\n",
    "filename = \"audio_sample_w.wav\"\n",
    "speech_key = \"f476c82f7e1242308bab15e791ea2600\"\n",
    "service_region = \"japaneast\"\n",
    "output = \"\"\n",
    "\n",
    "output = recognize_audio(output, speech_key, service_region, filename, recognize_time=1000)"
   ]
  },
  {
   "cell_type": "code",
   "execution_count": 27,
   "metadata": {},
   "outputs": [
    {
     "name": "stdout",
     "output_type": "stream",
     "text": [
      "再生時間： 489.09352083333334\n"
     ]
    }
   ],
   "source": [
    "# 音声ファイルの読み込み\n",
    "sound = AudioSegment.from_file(\"audio_sample_w.wav\", \"wav\")\n",
    "\n",
    "# 情報の取得\n",
    "time = sound.duration_seconds # 再生時間(秒)\n",
    "\n",
    "# 情報の表示\n",
    "print('再生時間：', time)"
   ]
  },
  {
   "cell_type": "code",
   "execution_count": 29,
   "metadata": {},
   "outputs": [
    {
     "data": {
      "text/plain": [
       "499"
      ]
     },
     "execution_count": 29,
     "metadata": {},
     "output_type": "execute_result"
    }
   ],
   "source": [
    "int(time)+10"
   ]
  },
  {
   "cell_type": "code",
   "execution_count": 11,
   "metadata": {},
   "outputs": [
    {
     "data": {
      "text/plain": [
       "'いかがだったでしょうか？えっと、まあ、この講座でですね、ミニマムにやってまいりましたけれども、それでも立派なページが作れるようになったんじゃないでしょうかね。でえっと、まあ、今日今回覚えたことを使ってもらえば、ほぼまあどんなページでも作れるようになると。思っていいです。もちろんですね。まだまだ細かい設定はいろいろありますけれども、まあ一番ええ、第一の壁が一番高いと思うんですけど、そこはもう乗り越えましたので、あとはgoogleで調べてですね。なんとかなるんじゃないかなと思います。皆さんもですねええと、その他にもページを作っていただいて、いろいろと練習をしてみてください。でスキルハブの方ではえっと課題の方も出しますので、その課題もやってみてください。では以上になります。ありがとうございました。'"
      ]
     },
     "execution_count": 11,
     "metadata": {},
     "output_type": "execute_result"
    }
   ],
   "source": [
    "output"
   ]
  },
  {
   "cell_type": "code",
   "execution_count": 20,
   "metadata": {},
   "outputs": [
    {
     "data": {
      "text/plain": [
       "'こんにちは。今回はHTML CSSの基礎知識について学んでいきましょう。この動画を見れば。HTMLとは何かシーエスエスとは何か？ウェブページを構成するための必要な要素を知ることができます。まずはHTMLとは何かについて解説して行きます。皆さんが普段パソコンやモバイル端末で見ているウェブページのオークワHTMLで作られています。HTMLとはハイパーテキストmarkup languageの略で、ウェブページを作成するための、マークアップ言語です。Markup永遠目印をつけるという意味です。分かりやすく言うと、webページ内に文字表、画像、リンクなどの要素を配置するための言語です。今あなたがスマートphoneやパソコンで見ているwebページも基本的に。は、このHTMLによって作られています。ウェブに関わる様々なものに使われているため、HTMLはwebの基本と言われています。HTMLの構成を確認するために試しに閲覧しているウェブページを右クリックしてみましょう。するとオレンジで囲っている部分のようなメニューが出るので、その中のページのソースを表示を選択してみましょう。するとこのような画面が表示されます。これが閲覧しているウェブページを構成しているHTMLです。この内容がブラウザで読み込まれることで、webページが表示されています。例えば、左側のHTMLタグはウェブページで言うところの上のメニューの項目を表示させています。今はまだ記載している内容がよくわからないと思いますが。別の動画ではHTMLとCSSを使って実際に簡単なwebページを作っていきますので、少しずつ内容を覚えていきましょう。次にウェブサイトを構成するために必要なシーエスエスについて詳しく解説して行きます。シーエスエス永遠ぱskatingスタイルシートの略で、ウェブページのスタイルを指定するための言語です。主にHTMLで配置した文字表画像などのコンテンツをデザインする役割を行います。先ほども紹介したメニューを構成しているHTMLですが、シーエスエスがないとただの文字列になってしまいます。シーエスエスを追加することによって、オシャレなメニューを作成することも可能となります。メニューだけでなく、シーエスエスを用いることで、HTMLのみで作られたウェブページを機能とデザインの両面において、より美しくすることができます。報告やチラシなどでもただ文字がずらっと並んでいるより色を付けたり、文字にメリハリをつけたほうが目を引きますよね。そして何より、色や文字のレイアウトは情報の印象にも影響します。カフェのウェブサイトならば、そのコンセプトに合わせたデザインを企業サイトならばしっかりとしたデザインにすることで、言葉では伝えきれない情報を伝えられます。このようにシーエスエスは、ホームページやブログの見た目を自由に作ることが可能です。また、最近でわ。パソコンよりスマートphoneやタブレットでブログやホームページを閲覧することが多くなってきています。シーエスエスを使うと、一つのページでパソコン用スマートphone用タブレット用それぞれに適したレイアウトを作成することが出来ます。シーエスエスの特徴として、ホームページやブログの見た目を自由に作れるパソコン、スマホ、タブレット、それぞれのレイアウトを作成可能と言うことを理解していただけたかと思います。では、次に。ウェブページを構成するための必要な要素について解説して行きます。HTMLは一般的にウェブサイトの骨組みとなる役割を持っています。先ほどご紹介したとうりウェブサイトのソース画面を確認していただくと、オークのhtmlが使用されていることがわかります。しかし、HTMLだけでは普段見慣れたウェブサイトを作成できません。基本的にwebページはHTMLとシーエスエスなどを用いて作られています。HTMLはwebページ上に表示される文字やボタンなど斎藤構成する上で必要になります。シーエスエスはウェブページをデザインする上で必要です。具体的にはHTMLの各要素に、対して装飾を付けて炒めを美しくするために使用されることを説明しました。しかし、ウェブサイトを構築するには、さまざまな機能を実装する必要があります。表示を入れ替えたり、ランキング情報を更新したりなど、内部で処理を実行したい場合はHTMLとCSSだけでは動きのあるウェブサイトを作ることはできません。Webページにこのような処理を実装する場合は、プログラミング言語のjava scriptが必要になります。Javascriptは、HTMLの中にプログラムを記述することで、webブラウザ上で動きのある表現が可能になります。ウェブサイトを開発する上でjavascriptわなくてはならない。プログラミング言語で、ほとんどのウェブサイトでjavascriptが使われています。ウェブサイトを構築するためには、ウェブページを構成するHTMLウェブページをデザインする為のシーエスエスウェブページの処理を実装するためのjava scriptが必要ということがわかりましたね。今回は簡単にjavascriptについてご紹介しました。が、別の動画でjavascriptの基礎知識やそれぞれの役割について詳しくご紹介するので、ウェブサイトを構築するにはjavascriptが必要。なんだと覚えておきましょう。では最後にHTML cssを覚えるメリットについて解説いたします。覚えるメリットは、webプログラミング拾得がスムーズになるwebの仕組みがわかるwebデザインもできる。となります。HTMLは先ほど紹介したとうり、マーク。アップ言語と呼ばれており、厳密に言うとプログラミング言語ではありません。文字にタグを当てはめるだけで反映させることができるため、初心者でも比較的簡単に習得できるというメリットがあります。HTMLは基本的にウェブプログラミングの基礎となるため、HTMLシーエスエスを習得してからプログラミング言語を学ぶ流れが一般的です。ウェブページは先ほど紹介したように。HTMLとCSSで作られています。そのため、HTMLとCSSでウェブページを作成することができれば、webプログラミング拾得がスムーズになります。HTMLはwebデザインの最も基本でもあります。自分でHTMLでウェブページを作成することができれば、webサイトやブログのデザインを変更したり、装飾することもできるようになります。そのためには、HTMLの基本や抗生タグの使いかたについてはしっかりと理解しておきましょう。いかがでしたか？この動画では、HTMLシーエスエスの基本的な知識についてご紹介しました。ウェブサイトを構成する上で、HTMLとCSSは欠かせない要素となります。ほかの動画ではHTMLシーエスエスを確認する上で必要なデベロッパーツールの使いかたやHTMLシーエスエスの記述方法や、動かし方についても解説して行きますので、楽しみにしていてください。この動画が参考になったと思ったら是非グッドボタンやチャンネル登録よろしくお願いします。HTMLシーエスエスについてはチュートリアルでも詳しく解説していますので、動画と合わせてみることで理解をさらに深めることができます。動画の概要欄に詳細を記載しているので、チェックしてみてください。ではまた、次の動画でお会いしましょう。'"
      ]
     },
     "execution_count": 20,
     "metadata": {},
     "output_type": "execute_result"
    }
   ],
   "source": [
    "output"
   ]
  },
  {
   "cell_type": "code",
   "execution_count": 19,
   "metadata": {},
   "outputs": [],
   "source": [
    "with open(\"output.txt\", \"w\", encoding=\"utf-8\") as f:\n",
    "    f.write(output)"
   ]
  },
  {
   "cell_type": "code",
   "execution_count": 1,
   "metadata": {},
   "outputs": [
    {
     "ename": "NameError",
     "evalue": "name 'df_merged' is not defined",
     "output_type": "error",
     "traceback": [
      "\u001b[0;31m---------------------------------------------------------------------------\u001b[0m",
      "\u001b[0;31mNameError\u001b[0m                                 Traceback (most recent call last)",
      "\u001b[0;32m<ipython-input-1-9b70e4a5ad0b>\u001b[0m in \u001b[0;36m<module>\u001b[0;34m\u001b[0m\n\u001b[0;32m----> 1\u001b[0;31m \u001b[0mdf_merged_sentiment\u001b[0m\u001b[0;34m=\u001b[0m \u001b[0mdf_merged\u001b[0m\u001b[0;34m[\u001b[0m\u001b[0;34m[\u001b[0m\u001b[0;34m\"positive\"\u001b[0m\u001b[0;34m,\u001b[0m \u001b[0;34m\"neutral\"\u001b[0m\u001b[0;34m,\u001b[0m \u001b[0;34m\"negative\"\u001b[0m\u001b[0;34m]\u001b[0m\u001b[0;34m]\u001b[0m\u001b[0;34m\u001b[0m\u001b[0;34m\u001b[0m\u001b[0m\n\u001b[0m\u001b[1;32m      2\u001b[0m fig_sentiment = px.bar(\n\u001b[1;32m      3\u001b[0m     \u001b[0mdf_merged_sentiment\u001b[0m\u001b[0;34m,\u001b[0m\u001b[0;34m\u001b[0m\u001b[0;34m\u001b[0m\u001b[0m\n\u001b[1;32m      4\u001b[0m     \u001b[0morientation\u001b[0m\u001b[0;34m=\u001b[0m\u001b[0;34m\"h\"\u001b[0m\u001b[0;34m,\u001b[0m\u001b[0;34m\u001b[0m\u001b[0;34m\u001b[0m\u001b[0m\n\u001b[1;32m      5\u001b[0m     \u001b[0mx\u001b[0m\u001b[0;34m=\u001b[0m\u001b[0;34m\"感情分析\"\u001b[0m\u001b[0;34m,\u001b[0m\u001b[0;34m\u001b[0m\u001b[0;34m\u001b[0m\u001b[0m\n",
      "\u001b[0;31mNameError\u001b[0m: name 'df_merged' is not defined"
     ]
    }
   ],
   "source": []
  },
  {
   "cell_type": "code",
   "execution_count": 21,
   "metadata": {},
   "outputs": [
    {
     "name": "stdout",
     "output_type": "stream",
     "text": [
      "Requirement already satisfied: azure-cognitiveservices-speech in /Users/hayatohamada/opt/anaconda3/lib/python3.8/site-packages (1.14.0)\n"
     ]
    }
   ],
   "source": [
    "!pip3 install azure-cognitiveservices-speech"
   ]
  },
  {
   "cell_type": "code",
   "execution_count": null,
   "metadata": {},
   "outputs": [],
   "source": [
    "import azure.cognitiveservices.speech as speechsdk\n",
    "\n",
    "speech_config = speechsdk.SpeechConfig(subscription=speech_key, region=service_region)\n",
    "audio_config = speechsdk.audio.AudioOutputConfig(use_default_speaker=True)\n",
    "\n",
    "# The language of the voice that speaks.\n",
    "speech_config.speech_synthesis_voice_name='ja-JP-NanamiNeural'\n",
    "\n",
    "speech_synthesizer = speechsdk.SpeechSynthesizer(speech_config=speech_config, audio_config=audio_config)\n",
    "\n",
    "# Get text from the console and synthesize to the default speaker.\n",
    "#print(\"Enter some text that you want to speak >\")\n",
    "text = output\n",
    "\n",
    "speech_synthesis_result = speech_synthesizer.speak_text_async(text).get()\n",
    "\n",
    "if speech_synthesis_result.reason == speechsdk.ResultReason.SynthesizingAudioCompleted:\n",
    "    print(\"Speech synthesized for text [{}]\".format(text))\n",
    "elif speech_synthesis_result.reason == speechsdk.ResultReason.Canceled:\n",
    "    cancellation_details = speech_synthesis_result.cancellation_details\n",
    "    print(\"Speech synthesis canceled: {}\".format(cancellation_details.reason))\n",
    "    if cancellation_details.reason == speechsdk.CancellationReason.Error:\n",
    "        if cancellation_details.error_details:\n",
    "            print(\"Error details: {}\".format(cancellation_details.error_details))\n",
    "            print(\"Did you set the speech resource key and region values?\")"
   ]
  },
  {
   "cell_type": "code",
   "execution_count": 23,
   "metadata": {},
   "outputs": [
    {
     "name": "stdout",
     "output_type": "stream",
     "text": [
      "Collecting pymsteams\n",
      "  Downloading pymsteams-0.2.1.tar.gz (9.6 kB)\n",
      "  Preparing metadata (setup.py) ... \u001b[?25ldone\n",
      "\u001b[?25hRequirement already satisfied: requests>=2.20.0 in /Users/hayatohamada/opt/anaconda3/lib/python3.8/site-packages (from pymsteams) (2.27.1)\n",
      "Requirement already satisfied: urllib3<1.27,>=1.21.1 in /Users/hayatohamada/opt/anaconda3/lib/python3.8/site-packages (from requests>=2.20.0->pymsteams) (1.25.9)\n",
      "Requirement already satisfied: certifi>=2017.4.17 in /Users/hayatohamada/opt/anaconda3/lib/python3.8/site-packages (from requests>=2.20.0->pymsteams) (2020.6.20)\n",
      "Requirement already satisfied: charset-normalizer~=2.0.0 in /Users/hayatohamada/opt/anaconda3/lib/python3.8/site-packages (from requests>=2.20.0->pymsteams) (2.0.12)\n",
      "Requirement already satisfied: idna<4,>=2.5 in /Users/hayatohamada/opt/anaconda3/lib/python3.8/site-packages (from requests>=2.20.0->pymsteams) (2.10)\n",
      "Building wheels for collected packages: pymsteams\n",
      "  Building wheel for pymsteams (setup.py) ... \u001b[?25ldone\n",
      "\u001b[?25h  Created wheel for pymsteams: filename=pymsteams-0.2.1-py3-none-any.whl size=6709 sha256=c7f57393336bf0f59175880703e6fcf6cad7d66176bdf7d2dcca1558f055fcd3\n",
      "  Stored in directory: /Users/hayatohamada/Library/Caches/pip/wheels/fd/4f/f5/db53967215a33ab7daecc1e5c31a188f1c35635c310ff68e8d\n",
      "Successfully built pymsteams\n",
      "Installing collected packages: pymsteams\n",
      "Successfully installed pymsteams-0.2.1\n"
     ]
    }
   ],
   "source": [
    "!pip3 install pymsteams"
   ]
  },
  {
   "cell_type": "code",
   "execution_count": null,
   "metadata": {},
   "outputs": [],
   "source": [
    "https://microsoft.webhook.office.com/webhookb2/8fcf88ae-bc6b-42c6-8722-cb8ffaac5925@72f988bf-86f1-41af-91ab-2d7cd011db47/IncomingWebhook/aae1bc717eab4328ba4d823864eed281/f9c3128a-2ec3-4f82-aea5-9b4fc35f420a"
   ]
  },
  {
   "cell_type": "code",
   "execution_count": 26,
   "metadata": {},
   "outputs": [
    {
     "name": "stdout",
     "output_type": "stream",
     "text": [
      "Python経由でTeamsにメッセージを通知(送信)しました。\n"
     ]
    }
   ],
   "source": [
    "import pymsteams\n",
    "\n",
    "\n",
    "incoming_webhook_url = \"https://microsoft.webhook.office.com/webhookb2/8fcf88ae-bc6b-42c6-8722-cb8ffaac5925@72f988bf-86f1-41af-91ab-2d7cd011db47/IncomingWebhook/aae1bc717eab4328ba4d823864eed281/f9c3128a-2ec3-4f82-aea5-9b4fc35f420a\" # 作成したIncoming WebhookのURLを指定(適宜変更)\n",
    "\n",
    "teams_obj = pymsteams.connectorcard(incoming_webhook_url)\n",
    "teams_obj.title(\"Message Title\")\n",
    "teams_obj.text(output)\n",
    "teams_obj.send()\n",
    "print(\"Python経由でTeamsにメッセージを通知(送信)しました。\")"
   ]
  },
  {
   "cell_type": "code",
   "execution_count": null,
   "metadata": {},
   "outputs": [],
   "source": []
  },
  {
   "cell_type": "code",
   "execution_count": null,
   "metadata": {},
   "outputs": [],
   "source": []
  },
  {
   "cell_type": "code",
   "execution_count": null,
   "metadata": {},
   "outputs": [],
   "source": []
  },
  {
   "cell_type": "code",
   "execution_count": null,
   "metadata": {},
   "outputs": [],
   "source": []
  },
  {
   "cell_type": "code",
   "execution_count": null,
   "metadata": {},
   "outputs": [],
   "source": []
  }
 ],
 "metadata": {
  "kernelspec": {
   "display_name": "Python 3.8.3 64-bit ('base': conda)",
   "language": "python",
   "name": "python383jvsc74a57bd0f9615d5aa5a330c24de68476d8cc9e13337aa201710c2e0802369a06b82c4cd2"
  },
  "language_info": {
   "codemirror_mode": {
    "name": "ipython",
    "version": 3
   },
   "file_extension": ".py",
   "mimetype": "text/x-python",
   "name": "python",
   "nbconvert_exporter": "python",
   "pygments_lexer": "ipython3",
   "version": "3.8.3"
  }
 },
 "nbformat": 4,
 "nbformat_minor": 4
}
