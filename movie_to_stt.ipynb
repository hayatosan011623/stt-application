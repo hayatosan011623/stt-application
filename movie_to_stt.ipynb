{
 "cells": [
  {
   "cell_type": "code",
   "execution_count": null,
   "metadata": {},
   "outputs": [],
   "source": [
    "from __future__ import unicode_literals\n",
    "import youtube_dl\n",
    "ydl_opts = {}\n",
    "with youtube_dl.YoutubeDL(ydl_opts) as ydl:\n",
    "    ydl.download(['https://www.youtube.com/watch?v=2JLiGSUohEo'])"
   ]
  },
  {
   "cell_type": "code",
   "execution_count": 1,
   "metadata": {},
   "outputs": [
    {
     "name": "stdout",
     "output_type": "stream",
     "text": [
      "[youtube] hR3tAX3pfZE: Downloading webpage\n",
      "[youtube] hR3tAX3pfZE: Downloading MPD manifest\n",
      "[download] Destination: ./audio_file/audio_sample.m4a\n",
      "[download] 100% of 1.23MiB in 00:2269KiB/s ETA 00:00\n",
      "[ffmpeg] Correcting container in \"./audio_file/audio_sample.m4a\"\n",
      "[ffmpeg] Destination: ./audio_file/audio_sample.mp3\n",
      "Deleting original file ./audio_file/audio_sample.m4a (pass -k to keep)\n",
      "[ffmpeg] Adding metadata to './audio_file/audio_sample.mp3'\n"
     ]
    }
   ],
   "source": [
    "from __future__ import unicode_literals\n",
    "import ffmpeg\n",
    "import youtube_dl\n",
    "from pydub import AudioSegment\n",
    "\n",
    "output_file_path=\"./audio_file/audio_sample\"\n",
    "\n",
    "ydl_opts = {\n",
    "    'format': 'bestaudio/best',\n",
    "    'outtmpl':  output_file_path + '.%(ext)s',   # 出力先パス\n",
    "    'postprocessors': [\n",
    "        {'key': 'FFmpegExtractAudio',\n",
    "         'preferredcodec': 'mp3',                # 出力ファイル形式\n",
    "         'preferredquality': '192'},             # 出力ファイルの品質\n",
    "        {'key': 'FFmpegMetadata'},\n",
    "    ],\n",
    "}\n",
    "# url = \"https://www.youtube.com/watch?v=2JLiGSUohEo\"\n",
    "url = \"https://www.youtube.com/watch?v=hR3tAX3pfZE\"\n",
    "\n",
    "ydl = youtube_dl.YoutubeDL(ydl_opts)\n",
    "\n",
    "# 指定したパスに音声ファイルが格納される\n",
    "_ = ydl.extract_info(url, download=True)\n",
    "\n",
    "# 格納された音声ファイルをpydubで読み込む\n",
    "audio = AudioSegment.from_mp3(output_file_path + '.mp3')"
   ]
  },
  {
   "cell_type": "code",
   "execution_count": 2,
   "metadata": {},
   "outputs": [
    {
     "data": {
      "text/plain": [
       "<_io.BufferedRandom name='audio_sample_w.wav'>"
      ]
     },
     "execution_count": 2,
     "metadata": {},
     "output_type": "execute_result"
    }
   ],
   "source": [
    "from pydub import AudioSegment\n",
    "\n",
    "# audio_file = 'YOUR_SONG.mp3'\n",
    "# output_path = 'YOUR_SONG.wav'\n",
    "\n",
    "audio_file = './audio_file/audio_sample.mp3'\n",
    "output_path = 'audio_sample_w.wav'\n",
    "\n",
    "audio = AudioSegment.from_mp3(audio_file)\n",
    "audio.export(output_path, format='wav')"
   ]
  },
  {
   "cell_type": "code",
   "execution_count": null,
   "metadata": {},
   "outputs": [],
   "source": [
    "from pydub import AudioSegment\n",
    "import streamlit as st\n",
    "\n",
    "byte_file = st.file_uploader('こちらからファイルを読み込み')\n",
    "audio = AudioSegment.from_file(byte_file)\n",
    "audio.export(output_path, format='wav')"
   ]
  },
  {
   "cell_type": "code",
   "execution_count": 6,
   "metadata": {},
   "outputs": [],
   "source": [
    "import time\n",
    "import azure.cognitiveservices.speech as speechsdk\n",
    "\n",
    "def recognize_audio(output, speech_key, service_region, filename, recognize_time=100):\n",
    "    \"\"\"\n",
    "    wav形式のデータから文字を起こす関数\n",
    "    ---------------------------\n",
    "    Parameters\n",
    "    output: str\n",
    "        音声から起こしたテキスト（再帰的に取得する）\n",
    "    speech_key: str\n",
    "        Azure Speech SDKのキー\n",
    "    service_region: str\n",
    "         Azure Speech SDKのリージョン名\n",
    "    filename: str\n",
    "        音声ファイルのパス\n",
    "    recognize_time: int\n",
    "        音声認識にかける時間（秒）\n",
    "    \"\"\"\n",
    "    # Speech to Text 設定周り\n",
    "    speech_config = speechsdk.SpeechConfig(subscription=speech_key, region=service_region)\n",
    "    speech_config.speech_recognition_language=\"ja-JP\"\n",
    "\n",
    "    # 認識器の設定\n",
    "    audio_input = speechsdk.AudioConfig(filename=filename)\n",
    "    speech_recognizer = speechsdk.SpeechRecognizer(speech_config=speech_config, audio_config=audio_input)\n",
    "\n",
    "    def recognized(evt):\n",
    "        nonlocal output\n",
    "        output += evt.result.text\n",
    "        \n",
    "    # 音声認識の実行\n",
    "    # recognize_timeの時間、継続して文字起こしを行う\n",
    "    speech_recognizer.recognized.connect(recognized)\n",
    "    speech_recognizer.start_continuous_recognition()\n",
    "    time.sleep(recognize_time)\n",
    "\n",
    "    return output\n",
    "\n",
    "\n",
    "filename = \"audio_sample_w.wav\"\n",
    "\n",
    "# 音声ファイルの読み込み\n",
    "sound = AudioSegment.from_file(filename, \"wav\")\n",
    "\n",
    "# 情報の取得\n",
    "# time = sound.duration_seconds # 再生時間(秒)\n",
    "times = int(sound.duration_seconds)+10\n",
    "\n",
    "\n",
    "speech_key = \"f476c82f7e1242308bab15e791ea2600\"\n",
    "service_region = \"japaneast\"\n",
    "output = \"\"\n",
    "\n",
    "output = recognize_audio(output, speech_key, service_region, filename, recognize_time=times)"
   ]
  },
  {
   "cell_type": "code",
   "execution_count": 7,
   "metadata": {},
   "outputs": [
    {
     "data": {
      "text/plain": [
       "'いかがだったでしょうか？えっと、まあ、この講座でですね、ミニマムにやってまいりましたけれども、それでも立派なページが作れるようになったんじゃないでしょうかね。でえっと、まあ、今日今回覚えたことを使ってもらえば、ほぼまあどんなページでも作れるようになると。思っていいです。もちろんですね。まだまだ細かい設定はいろいろありますけれども、まあ一番ええ、第一の壁が一番高いと思うんですけど、そこはもう乗り越えましたので、あとはgoogleで調べてですね。なんとかなるんじゃないかなと思います。皆さんもですねええと、その他にもページを作っていただいて、いろいろと練習をしてみてください。でスキルハブの方ではえっと課題の方も出しますので、その課題もやってみてください。では以上になります。ありがとうございました。'"
      ]
     },
     "execution_count": 7,
     "metadata": {},
     "output_type": "execute_result"
    }
   ],
   "source": [
    "output"
   ]
  },
  {
   "cell_type": "code",
   "execution_count": null,
   "metadata": {},
   "outputs": [],
   "source": [
    "with open(\"output.txt\", \"w\", encoding=\"utf-8\") as f:\n",
    "    f.write(output)"
   ]
  },
  {
   "cell_type": "code",
   "execution_count": null,
   "metadata": {},
   "outputs": [],
   "source": [
    "import azure.cognitiveservices.speech as speechsdk\n",
    "\n",
    "speech_config = speechsdk.SpeechConfig(subscription=speech_key, region=service_region)\n",
    "audio_config = speechsdk.audio.AudioOutputConfig(use_default_speaker=True)\n",
    "\n",
    "# The language of the voice that speaks.\n",
    "speech_config.speech_synthesis_voice_name='ja-JP-NanamiNeural'\n",
    "\n",
    "speech_synthesizer = speechsdk.SpeechSynthesizer(speech_config=speech_config, audio_config=audio_config)\n",
    "\n",
    "# Get text from the console and synthesize to the default speaker.\n",
    "#print(\"Enter some text that you want to speak >\")\n",
    "text = output\n",
    "\n",
    "speech_synthesis_result = speech_synthesizer.speak_text_async(text).get()\n",
    "\n",
    "if speech_synthesis_result.reason == speechsdk.ResultReason.SynthesizingAudioCompleted:\n",
    "    print(\"Speech synthesized for text [{}]\".format(text))\n",
    "elif speech_synthesis_result.reason == speechsdk.ResultReason.Canceled:\n",
    "    cancellation_details = speech_synthesis_result.cancellation_details\n",
    "    print(\"Speech synthesis canceled: {}\".format(cancellation_details.reason))\n",
    "    if cancellation_details.reason == speechsdk.CancellationReason.Error:\n",
    "        if cancellation_details.error_details:\n",
    "            print(\"Error details: {}\".format(cancellation_details.error_details))\n",
    "            print(\"Did you set the speech resource key and region values?\")"
   ]
  },
  {
   "cell_type": "code",
   "execution_count": null,
   "metadata": {},
   "outputs": [],
   "source": []
  },
  {
   "cell_type": "code",
   "execution_count": null,
   "metadata": {},
   "outputs": [],
   "source": []
  },
  {
   "cell_type": "code",
   "execution_count": null,
   "metadata": {},
   "outputs": [],
   "source": []
  },
  {
   "cell_type": "code",
   "execution_count": null,
   "metadata": {},
   "outputs": [],
   "source": []
  },
  {
   "cell_type": "code",
   "execution_count": null,
   "metadata": {},
   "outputs": [],
   "source": []
  },
  {
   "cell_type": "code",
   "execution_count": null,
   "metadata": {},
   "outputs": [],
   "source": []
  },
  {
   "cell_type": "code",
   "execution_count": null,
   "metadata": {},
   "outputs": [],
   "source": []
  },
  {
   "cell_type": "code",
   "execution_count": null,
   "metadata": {},
   "outputs": [],
   "source": []
  },
  {
   "cell_type": "code",
   "execution_count": null,
   "metadata": {},
   "outputs": [],
   "source": []
  }
 ],
 "metadata": {
  "kernelspec": {
   "display_name": "Python 3.8.3 64-bit ('base': conda)",
   "language": "python",
   "name": "python383jvsc74a57bd0f9615d5aa5a330c24de68476d8cc9e13337aa201710c2e0802369a06b82c4cd2"
  },
  "language_info": {
   "codemirror_mode": {
    "name": "ipython",
    "version": 3
   },
   "file_extension": ".py",
   "mimetype": "text/x-python",
   "name": "python",
   "nbconvert_exporter": "python",
   "pygments_lexer": "ipython3",
   "version": "3.8.3"
  }
 },
 "nbformat": 4,
 "nbformat_minor": 4
}
